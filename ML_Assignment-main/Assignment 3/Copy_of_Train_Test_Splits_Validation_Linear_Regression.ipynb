{
  "cells": [
    {
      "cell_type": "markdown",
      "metadata": {
        "run_control": {
          "marked": true
        },
        "id": "LWSilU9TCcDw"
      },
      "source": [
        "# Train Test Splits, Cross Validation, and Linear Regression\n",
        "\n",
        "![Lregressions.png](Assets/LinearRegr.png)"
      ]
    },
    {
      "cell_type": "markdown",
      "metadata": {
        "id": "XqmuFiCmCcDz"
      },
      "source": [
        "# Learning Objectives\n",
        "\n",
        "- Explain the difference between over-fitting and under-fitting a model\n",
        "- Describe Bias-variance tradeoffs\n",
        "- Find the optimal training and test data set splits, cross-validation, and model complexity versus error\n",
        "- Apply a linear regression model for supervised learning\n",
        "- Apply Intel® Extension for Scikit-learn* to leverage underlying compute capabilities of hardware\n",
        "\n",
        "# scikit-learn*\n",
        "\n",
        "Frameworks provide structure that Data Scientists use to build code. Frameworks are more than just libraries, because in addition to callable code, frameworks influence how code is written.\n",
        "\n",
        "A main virtue of using an optimized framework is that code runs faster. Code that runs faster is just generally more convenient but when we begin looking at applied data science and AI models, we can see more material benefits. Here you will see how optimization, particularly hyperparameter optimization can benefit more than just speed.\n",
        "\n",
        "These exercises will demonstrate how to apply **the Intel® Extension for Scikit-learn*,** a seamless way to speed up your Scikit-learn application. The acceleration is achieved through the use of the Intel® oneAPI Data Analytics Library (oneDAL). Patching is the term used to extend scikit-learn with Intel optimizations and makes it a well-suited machine learning framework for dealing with real-life problems.\n",
        "\n",
        "To get optimized versions of many Scikit-learn algorithms using a patch() approach consisting of adding these lines of code prior to importing sklearn:\n",
        "\n",
        "- **from sklearnex import patch_sklearn**\n",
        "- **patch_sklearn()**\n",
        "\n",
        "## This exercise relies on installation of  Intel® Extension for Scikit-learn*\n",
        "\n",
        "If you have not already done so, follow the instructions from Week 1 for instructions"
      ]
    },
    {
      "cell_type": "markdown",
      "metadata": {
        "run_control": {
          "marked": true
        },
        "id": "yVb7giXuCcD2"
      },
      "source": [
        "## Introduction\n",
        "\n",
        "We will be working with a data set based on [housing prices in Ames, Iowa](https://www.kaggle.com/c/house-prices-advanced-regression-techniques). It was compiled for educational use to be a modernized and expanded alternative to the well-known Boston Housing dataset. This version of the data set has had some missing values filled for convenience.\n",
        "\n",
        "There are an extensive number of features, so they've been described in the table below.\n",
        "\n",
        "### Predictor\n",
        "\n",
        "* SalePrice: The property's sale price in dollars.\n",
        "\n",
        "\n",
        "### Features\n",
        "\n",
        "<table>\n",
        "  <tbody>    \n",
        "    <tr valign=\"top\">\n",
        "      <td valign=\"top\">\n",
        "        <ul>\n",
        "          <li>MoSold: Month Sold</li>\n",
        "          <li>YrSold: Year Sold</li><br>\n",
        "          \n",
        "          <li>SaleType: Type of sale</li>\n",
        "          <li>SaleCondition: Condition of sale</li><br>\n",
        "\n",
        "          <li>MSSubClass: The building class</li>\n",
        "          <li>MSZoning: The general zoning classification</li><br>\n",
        "\n",
        "          <li>Neighborhood: Physical locations within Ames city limits</li>\n",
        "          <li>Street: Type of road access</li>\n",
        "          <li>Alley: Type of alley access</li><br>\n",
        "\n",
        "          <li>LotArea: Lot size in square feet</li>\n",
        "          <li>LotConfig: Lot configuration</li>\n",
        "          <li>LotFrontage: Linear feet of street connected to property</li>\n",
        "          <li>LotShape: General shape of property</li><br>\n",
        "\n",
        "          <li>LandSlope: Slope of property</li>\n",
        "          <li>LandContour: Flatness of the property</li><br>\n",
        "\n",
        "          <li>YearBuilt: Original construction date</li>\n",
        "          <li>YearRemodAdd: Remodel date</li>\n",
        "          <li>OverallQual: Overall material and finish quality</li>\n",
        "          <li>OverallCond: Overall condition rating</li><br>\n",
        "\n",
        "          <li>Utilities: Type of utilities available</li>\n",
        "          <li>Foundation: Type of foundation</li>\n",
        "          <li>Functional: Home functionality rating</li><br>\n",
        "\n",
        "          <li>BldgType: Type of dwelling</li>\n",
        "          <li>HouseStyle: Style of dwelling</li><br>\n",
        "          \n",
        "          <li>1stFlrSF: First Floor square feet</li>\n",
        "          <li>2ndFlrSF: Second floor square feet</li>\n",
        "          <li>LowQualFinSF: Low quality finished square feet (all floors)</li>\n",
        "          <li>GrLivArea: Above grade (ground) living area square feet</li>\n",
        "          <li>TotRmsAbvGrd: Total rooms above grade (does not include bathrooms)</li><br>\n",
        "\n",
        "          <li>Condition1: Proximity to main road or railroad</li>\n",
        "          <li>Condition2: Proximity to main road or railroad (if a second is present)</li><br>\n",
        "          \n",
        "          <li>RoofStyle: Type of roof</li>\n",
        "          <li>RoofMatl: Roof material</li><br>\n",
        "\n",
        "          <li>ExterQual: Exterior material quality</li>\n",
        "          <li>ExterCond: Present condition of the material on the exterior</li>\n",
        "          <li>Exterior1st: Exterior covering on house</li>\n",
        "          <li>Exterior2nd: Exterior covering on house (if more than one material)</li><br><br>\n",
        "          \n",
        "        </ul>\n",
        "      </td>\n",
        "      \n",
        "      <td valign=\"top\">\n",
        "        <ul>\n",
        "          <li>MasVnrType: Masonry veneer type</li>\n",
        "          <li>MasVnrArea: Masonry veneer area in square feet</li><br>\n",
        "          \n",
        "          <li>WoodDeckSF: Wood deck area in square feet</li>\n",
        "          <li>OpenPorchSF: Open porch area in square feet</li>\n",
        "          <li>EnclosedPorch: Enclosed porch area in square feet</li>\n",
        "          <li>3SsnPorch: Three season porch area in square feet</li>\n",
        "          <li>ScreenPorch: Screen porch area in square feet</li><br>\n",
        "\n",
        "          <li>PoolArea: Pool area in square feet</li>\n",
        "          <li>PoolQC: Pool quality</li>\n",
        "          <li>Fence: Fence quality</li>\n",
        "          <li>PavedDrive: Paved driveway</li><br>\n",
        "\n",
        "          <li>GarageType: Garage location</li>\n",
        "          <li>GarageYrBlt: Year garage was built</li>\n",
        "          <li>GarageFinish: Interior finish of the garage</li>\n",
        "          <li>GarageCars: Size of garage in car capacity</li>\n",
        "          <li>GarageArea: Size of garage in square feet</li>\n",
        "          <li>GarageQual: Garage quality</li>\n",
        "          <li>GarageCond: Garage condition</li><br>\n",
        "\n",
        "          <li>Heating: Type of heating</li>\n",
        "          <li>HeatingQC: Heating quality and condition</li>\n",
        "          <li>CentralAir: Central air conditioning</li>\n",
        "          <li>Electrical: Electrical system</li><br>\n",
        "          \n",
        "          <li>FullBath: Full bathrooms above grade</li>\n",
        "          <li>HalfBath: Half baths above grade</li><br>\n",
        "          \n",
        "          <li>BedroomAbvGr: Number of bedrooms above basement level</li><br>\n",
        "          \n",
        "          <li>KitchenAbvGr: Number of kitchens</li>\n",
        "          <li>KitchenQual: Kitchen quality</li><br>\n",
        "          \n",
        "          <li>Fireplaces: Number of fireplaces</li>\n",
        "          <li>FireplaceQu: Fireplace quality</li><br>\n",
        "          \n",
        "          <li>MiscFeature: Miscellaneous feature not covered in other categories</li>\n",
        "          <li>MiscVal: Value of miscellaneous feature</li><br>\n",
        "          \n",
        "          <li>BsmtQual: Height of the basement</li>\n",
        "          <li>BsmtCond: General condition of the basement</li>\n",
        "          <li>BsmtExposure: Walkout or garden level basement walls</li>\n",
        "          <li>BsmtFinType1: Quality of basement finished area</li>\n",
        "          <li>BsmtFinSF1: Type 1 finished square feet</li>\n",
        "          <li>BsmtFinType2: Quality of second finished area (if present)</li>\n",
        "          <li>BsmtFinSF2: Type 2 finished square feet</li>\n",
        "          <li>BsmtUnfSF: Unfinished square feet of basement area</li>\n",
        "          <li>BsmtFullBath: Basement full bathrooms</li>\n",
        "          <li>BsmtHalfBath: Basement half bathrooms</li>\n",
        "          <li>TotalBsmtSF: Total square feet of basement area</li>\n",
        "        </ul>\n",
        "      </td>\n",
        "    </tr>\n",
        "    \n",
        "  </tbody>\n",
        "</table>\n"
      ]
    },
    {
      "cell_type": "code",
      "execution_count": null,
      "metadata": {
        "ExecuteTime": {
          "end_time": "2021-09-24T17:11:51.157758Z",
          "start_time": "2021-09-24T17:11:51.140036Z"
        },
        "run_control": {
          "marked": true
        },
        "id": "M0y3VXk5CcD4",
        "outputId": "7100e504-d926-4a9e-81f3-258874495ec1",
        "colab": {
          "base_uri": "https://localhost:8080/"
        }
      },
      "outputs": [
        {
          "output_type": "stream",
          "name": "stderr",
          "text": [
            "Intel(R) Extension for Scikit-learn* enabled (https://github.com/uxlfoundation/scikit-learn-intelex)\n"
          ]
        }
      ],
      "source": [
        "from __future__ import print_function\n",
        "import os\n",
        "data_path = ['../data']\n",
        "\n",
        "from sklearnex import patch_sklearn\n",
        "patch_sklearn()\n",
        "\n",
        "from sklearn.preprocessing import OneHotEncoder, LabelEncoder\n",
        "from sklearn.model_selection import train_test_split\n",
        "from sklearn.linear_model import LinearRegression\n",
        "from sklearn.metrics import mean_squared_error\n",
        "from sklearn.preprocessing import StandardScaler, MinMaxScaler, MaxAbsScaler"
      ]
    },
    {
      "cell_type": "code",
      "source": [
        "!pip install scikit-learn-intelex\n"
      ],
      "metadata": {
        "id": "tzf2KEzkDSwt",
        "outputId": "fc5c1625-0454-4af6-e428-c9410de25ad3",
        "colab": {
          "base_uri": "https://localhost:8080/"
        }
      },
      "execution_count": null,
      "outputs": [
        {
          "output_type": "stream",
          "name": "stdout",
          "text": [
            "Collecting scikit-learn-intelex\n",
            "  Downloading scikit_learn_intelex-2025.2.0-py311-none-manylinux_2_28_x86_64.whl.metadata (12 kB)\n",
            "Collecting daal==2025.2.0 (from scikit-learn-intelex)\n",
            "  Downloading daal-2025.2.0-py2.py3-none-manylinux_2_28_x86_64.whl.metadata (1.1 kB)\n",
            "Requirement already satisfied: numpy>=1.19 in /usr/local/lib/python3.11/dist-packages (from scikit-learn-intelex) (1.26.4)\n",
            "Requirement already satisfied: scikit-learn>=0.22 in /usr/local/lib/python3.11/dist-packages (from scikit-learn-intelex) (1.6.1)\n",
            "Requirement already satisfied: tbb==2022.* in /usr/local/lib/python3.11/dist-packages (from daal==2025.2.0->scikit-learn-intelex) (2022.0.0)\n",
            "Requirement already satisfied: tcmlib==1.* in /usr/local/lib/python3.11/dist-packages (from tbb==2022.*->daal==2025.2.0->scikit-learn-intelex) (1.2.0)\n",
            "Requirement already satisfied: scipy>=1.6.0 in /usr/local/lib/python3.11/dist-packages (from scikit-learn>=0.22->scikit-learn-intelex) (1.13.1)\n",
            "Requirement already satisfied: joblib>=1.2.0 in /usr/local/lib/python3.11/dist-packages (from scikit-learn>=0.22->scikit-learn-intelex) (1.4.2)\n",
            "Requirement already satisfied: threadpoolctl>=3.1.0 in /usr/local/lib/python3.11/dist-packages (from scikit-learn>=0.22->scikit-learn-intelex) (3.5.0)\n",
            "Downloading scikit_learn_intelex-2025.2.0-py311-none-manylinux_2_28_x86_64.whl (4.5 MB)\n",
            "\u001b[2K   \u001b[90m━━━━━━━━━━━━━━━━━━━━━━━━━━━━━━━━━━━━━━━━\u001b[0m \u001b[32m4.5/4.5 MB\u001b[0m \u001b[31m52.4 MB/s\u001b[0m eta \u001b[36m0:00:00\u001b[0m\n",
            "\u001b[?25hDownloading daal-2025.2.0-py2.py3-none-manylinux_2_28_x86_64.whl (91.4 MB)\n",
            "\u001b[2K   \u001b[90m━━━━━━━━━━━━━━━━━━━━━━━━━━━━━━━━━━━━━━━━\u001b[0m \u001b[32m91.4/91.4 MB\u001b[0m \u001b[31m9.2 MB/s\u001b[0m eta \u001b[36m0:00:00\u001b[0m\n",
            "\u001b[?25hInstalling collected packages: daal, scikit-learn-intelex\n",
            "Successfully installed daal-2025.2.0 scikit-learn-intelex-2025.2.0\n"
          ]
        }
      ]
    },
    {
      "cell_type": "markdown",
      "metadata": {
        "run_control": {
          "marked": true
        },
        "id": "TGqCvjaPCcD5"
      },
      "source": [
        "## Question 1\n",
        "\n",
        "* Import the data using Pandas and examine the shape. There are 79 feature columns plus the predictor, the sale price (`SalePrice`).\n",
        "* There are three different types: integers (`int64`), floats (`float64`), and strings (`object`, categoricals). Examine how many there are of each data type."
      ]
    },
    {
      "cell_type": "code",
      "execution_count": null,
      "metadata": {
        "ExecuteTime": {
          "end_time": "2021-09-24T17:11:51.173713Z",
          "start_time": "2021-09-24T17:11:51.159715Z"
        },
        "run_control": {
          "marked": true
        },
        "id": "4DVOAKAbCcD6",
        "outputId": "fcc46202-5823-473f-9ed6-0364de5a5a5b",
        "colab": {
          "base_uri": "https://localhost:8080/"
        }
      },
      "outputs": [
        {
          "output_type": "stream",
          "name": "stdout",
          "text": [
            "Dataset Shape: (1379, 80)\n",
            "\n",
            "Count of Each Data Type:\n",
            "object     43\n",
            "float64    21\n",
            "int64      16\n",
            "Name: count, dtype: int64\n"
          ]
        }
      ],
      "source": [
        "import pandas as pd\n",
        "\n",
        "# Load the dataset\n",
        "df = pd.read_csv(\"/content/Ames_Housing_Sales (1).csv\")  # Update with the correct path\n",
        "\n",
        "# Display the shape of the dataset (rows, columns)\n",
        "print(\"Dataset Shape:\", df.shape)\n",
        "\n",
        "# Display data types of each column\n",
        "data_types = df.dtypes.value_counts()\n",
        "print(\"\\nCount of Each Data Type:\")\n",
        "print(data_types)\n"
      ]
    },
    {
      "cell_type": "code",
      "execution_count": null,
      "metadata": {
        "ExecuteTime": {
          "end_time": "2021-09-24T17:11:51.188712Z",
          "start_time": "2021-09-24T17:11:51.175715Z"
        },
        "run_control": {
          "marked": true
        },
        "id": "2O5uV3X0CcD6"
      },
      "outputs": [],
      "source": [
        "#Display value counts of data set\n"
      ]
    },
    {
      "cell_type": "markdown",
      "metadata": {
        "run_control": {
          "marked": true
        },
        "id": "yMVB2cIkCcD7"
      },
      "source": [
        "## Question 2\n",
        "\n",
        "As discussed in the lecture, a significant challenge, particularly when dealing with data that have many columns, is ensuring each column gets encoded correctly.\n",
        "\n",
        "This is particularly true with data columns that are ordered categoricals (ordinals) vs unordered categoricals. Unordered categoricals should be one-hot encoded, however this can significantly increase the number of features and creates features that are highly correlated with each other.\n",
        "\n",
        "Determine how many total features would be present, relative to what currently exists, if all string (object) features are one-hot encoded. Recall that the total number of one-hot encoded columns is `n-1`, where `n` is the number of categories."
      ]
    },
    {
      "cell_type": "code",
      "execution_count": null,
      "metadata": {
        "ExecuteTime": {
          "end_time": "2021-09-24T17:11:51.203914Z",
          "start_time": "2021-09-24T17:11:51.190714Z"
        },
        "run_control": {
          "marked": true
        },
        "id": "YkWF_TRpCcD8",
        "outputId": "96bc51c5-ad5a-4eae-bdcf-793627a32eff",
        "colab": {
          "base_uri": "https://localhost:8080/"
        }
      },
      "outputs": [
        {
          "output_type": "stream",
          "name": "stdout",
          "text": [
            "Current total features: 80\n",
            "Estimated new total features after one-hot encoding: 241\n"
          ]
        }
      ],
      "source": [
        "import pandas as pd\n",
        "\n",
        "# Load the dataset\n",
        "df = pd.read_csv(\"/content/Ames_Housing_Sales (1).csv\")  # Update the path as needed\n",
        "\n",
        "# Identify categorical columns (object type)\n",
        "categorical_cols = df.select_dtypes(include=['object']).columns\n",
        "\n",
        "# Count unique values in each categorical column (n-1 for one-hot encoding)\n",
        "additional_features = sum(df[col].nunique() - 1 for col in categorical_cols)\n",
        "\n",
        "# Calculate new total feature count\n",
        "current_features = df.shape[1]  # Including target column\n",
        "new_features = current_features - len(categorical_cols) + additional_features\n",
        "\n",
        "# Display results\n",
        "print(f\"Current total features: {current_features}\")\n",
        "print(f\"Estimated new total features after one-hot encoding: {new_features}\")\n"
      ]
    },
    {
      "cell_type": "code",
      "execution_count": null,
      "metadata": {
        "ExecuteTime": {
          "end_time": "2021-09-24T17:11:51.219909Z",
          "start_time": "2021-09-24T17:11:51.205714Z"
        },
        "run_control": {
          "marked": true
        },
        "id": "coyE6ly-CcD8"
      },
      "outputs": [],
      "source": [
        "# Determine how many extra columns would be created\n",
        "\n",
        "\n",
        "# No need to encode if there is only one value\n",
        "\n",
        "# Number of one-hot columns is one less than the number of categories\n",
        "\n",
        "# This is 215 columns, assuming the original ones are dropped.\n",
        "# This is quite a few extra columns!\n"
      ]
    },
    {
      "cell_type": "markdown",
      "metadata": {
        "run_control": {
          "marked": true
        },
        "id": "j9tspA_BCcD9"
      },
      "source": [
        "## Question 3\n",
        "\n",
        "Let's create a new data set where all of the above categorical features will be one-hot encoded. We can fit this data and see how it affects the results.\n",
        "\n",
        "* Used the dataframe `.copy()` method to create a completely separate copy of the dataframe for one-hot encoding\n",
        "* On this new dataframe, one-hot encode each of the appropriate columns and add it back to the dataframe. Be sure to drop the original column.\n",
        "* For the data that are not one-hot encoded, drop the columns that are string categoricals.\n",
        "\n",
        "For the first step, numerically encoding the string categoricals, either Scikit-learn;s `LabelEncoder` or `DictVectorizer` can be used. However, the former is probably easier since it doesn't require specifying a numerical value for each category, and we are going to one-hot encode all of the numerical values anyway. (Can you think of a time when `DictVectorizer` might be preferred?)"
      ]
    },
    {
      "cell_type": "code",
      "execution_count": null,
      "metadata": {
        "ExecuteTime": {
          "end_time": "2021-09-24T17:11:51.234909Z",
          "start_time": "2021-09-24T17:11:51.221715Z"
        },
        "run_control": {
          "marked": true
        },
        "id": "LSx0UySdCcD-",
        "outputId": "1db404f3-f800-4615-8ec0-703875593701",
        "colab": {
          "base_uri": "https://localhost:8080/"
        }
      },
      "outputs": [
        {
          "output_type": "stream",
          "name": "stdout",
          "text": [
            "New dataset shape after one-hot encoding: (1379, 241)\n"
          ]
        }
      ],
      "source": [
        "import pandas as pd\n",
        "from sklearn.preprocessing import LabelEncoder\n",
        "\n",
        "# Load dataset\n",
        "df = pd.read_csv(\"/content/Ames_Housing_Sales (1).csv\")  # Update with correct path\n",
        "\n",
        "# Create a separate copy of the dataframe\n",
        "df_encoded = df.copy()\n",
        "\n",
        "# Identify categorical columns (object type)\n",
        "categorical_cols = df.select_dtypes(include=['object']).columns\n",
        "\n",
        "# Apply One-Hot Encoding\n",
        "df_encoded = pd.get_dummies(df_encoded, columns=categorical_cols, drop_first=True)\n",
        "\n",
        "# Display shape after encoding\n",
        "print(f\"New dataset shape after one-hot encoding: {df_encoded.shape}\")\n",
        "\n",
        "# Save the transformed dataset\n",
        "df_encoded.to_csv(\"/content/Ames_Housing_Sales (1).csv\", index=False)\n"
      ]
    },
    {
      "cell_type": "code",
      "execution_count": null,
      "metadata": {
        "ExecuteTime": {
          "end_time": "2021-09-24T17:11:51.250739Z",
          "start_time": "2021-09-24T17:11:51.236713Z"
        },
        "run_control": {
          "marked": true
        },
        "id": "WLjFS9OBCcD_"
      },
      "outputs": [],
      "source": [
        "# Column difference is as calculated above\n"
      ]
    },
    {
      "cell_type": "code",
      "execution_count": null,
      "metadata": {
        "ExecuteTime": {
          "end_time": "2021-09-24T17:11:51.265737Z",
          "start_time": "2021-09-24T17:11:51.252715Z"
        },
        "run_control": {
          "marked": true
        },
        "id": "aJq2eLK_CcD_"
      },
      "outputs": [],
      "source": [
        "\n",
        "# Remove the string columns from the dataframe\n",
        "\n",
        "\n",
        "#print shape of data"
      ]
    },
    {
      "cell_type": "markdown",
      "metadata": {
        "run_control": {
          "marked": true
        },
        "id": "KdAUsMYHCcEA"
      },
      "source": [
        "## Question 4\n",
        "\n",
        "* Create train and test splits of both data sets. To ensure the data gets split the same way, use the same `random_state` in each of the two splits.\n",
        "* For each data set, fit a basic linear regression model on the training data.\n",
        "* Calculate the mean squared error on both the train and test sets for the respective models. Which model produces smaller error on the test data and why?"
      ]
    },
    {
      "cell_type": "code",
      "execution_count": null,
      "metadata": {
        "run_control": {
          "marked": true
        },
        "id": "S-xuFo3eCcEB"
      },
      "outputs": [],
      "source": []
    },
    {
      "cell_type": "code",
      "execution_count": null,
      "metadata": {
        "run_control": {
          "marked": true
        },
        "id": "vPbZlinUCcEB",
        "outputId": "943fc28e-8f9b-41f6-8f43-a436556b311d",
        "colab": {
          "base_uri": "https://localhost:8080/"
        }
      },
      "outputs": [
        {
          "output_type": "stream",
          "name": "stdout",
          "text": [
            "Original Data - Train MSE: 358966765.9112954\n",
            "Original Data - Test MSE: 3575081814.633922\n",
            "\n",
            "One-Hot Encoded Data - Train MSE: 358966765.9112954\n",
            "One-Hot Encoded Data - Test MSE: 3575081814.633922\n",
            "\n",
            "✅ Original model has a smaller test error.\n"
          ]
        },
        {
          "output_type": "stream",
          "name": "stderr",
          "text": [
            "/usr/local/lib/python3.11/dist-packages/sklearn/utils/deprecation.py:151: FutureWarning: 'force_all_finite' was renamed to 'ensure_all_finite' in 1.6 and will be removed in 1.8.\n",
            "  warnings.warn(\n",
            "/usr/local/lib/python3.11/dist-packages/sklearn/utils/deprecation.py:151: FutureWarning: 'force_all_finite' was renamed to 'ensure_all_finite' in 1.6 and will be removed in 1.8.\n",
            "  warnings.warn(\n",
            "/usr/local/lib/python3.11/dist-packages/sklearn/utils/deprecation.py:151: FutureWarning: 'force_all_finite' was renamed to 'ensure_all_finite' in 1.6 and will be removed in 1.8.\n",
            "  warnings.warn(\n",
            "/usr/local/lib/python3.11/dist-packages/sklearn/utils/deprecation.py:151: FutureWarning: 'force_all_finite' was renamed to 'ensure_all_finite' in 1.6 and will be removed in 1.8.\n",
            "  warnings.warn(\n",
            "/usr/local/lib/python3.11/dist-packages/sklearn/utils/deprecation.py:151: FutureWarning: 'force_all_finite' was renamed to 'ensure_all_finite' in 1.6 and will be removed in 1.8.\n",
            "  warnings.warn(\n",
            "/usr/local/lib/python3.11/dist-packages/sklearn/utils/deprecation.py:151: FutureWarning: 'force_all_finite' was renamed to 'ensure_all_finite' in 1.6 and will be removed in 1.8.\n",
            "  warnings.warn(\n"
          ]
        }
      ],
      "source": [
        "import pandas as pd\n",
        "import numpy as np\n",
        "from sklearn.model_selection import train_test_split\n",
        "from sklearn.linear_model import LinearRegression\n",
        "from sklearn.metrics import mean_squared_error\n",
        "\n",
        "# Load the original dataset (before encoding)\n",
        "df_original = pd.read_csv(\"/content/Ames_Housing_Sales (1).csv\")  # Update with correct path\n",
        "\n",
        "# Load the one-hot encoded dataset\n",
        "df_encoded = pd.read_csv(\"/content/Ames_Housing_Sales (1).csv\")\n",
        "\n",
        "# Separate features (X) and target variable (y) for both datasets\n",
        "X_original = df_original.drop(columns=['SalePrice'])  # Drop target column\n",
        "y_original = df_original['SalePrice']  # Target variable\n",
        "\n",
        "X_encoded = df_encoded.drop(columns=['SalePrice'])\n",
        "y_encoded = df_encoded['SalePrice']\n",
        "\n",
        "# Split data into training and testing sets (use the same random_state for consistency)\n",
        "X_train_orig, X_test_orig, y_train_orig, y_test_orig = train_test_split(X_original, y_original, test_size=0.2, random_state=42)\n",
        "X_train_enc, X_test_enc, y_train_enc, y_test_enc = train_test_split(X_encoded, y_encoded, test_size=0.2, random_state=42)\n",
        "\n",
        "# Initialize and train Linear Regression models\n",
        "model_orig = LinearRegression()\n",
        "model_enc = LinearRegression()\n",
        "\n",
        "model_orig.fit(X_train_orig, y_train_orig)\n",
        "model_enc.fit(X_train_enc, y_train_enc)\n",
        "\n",
        "# Predict on train and test sets\n",
        "y_train_pred_orig = model_orig.predict(X_train_orig)\n",
        "y_test_pred_orig = model_orig.predict(X_test_orig)\n",
        "\n",
        "y_train_pred_enc = model_enc.predict(X_train_enc)\n",
        "y_test_pred_enc = model_enc.predict(X_test_enc)\n",
        "\n",
        "# Calculate Mean Squared Error (MSE)\n",
        "mse_train_orig = mean_squared_error(y_train_orig, y_train_pred_orig)\n",
        "mse_test_orig = mean_squared_error(y_test_orig, y_test_pred_orig)\n",
        "\n",
        "mse_train_enc = mean_squared_error(y_train_enc, y_train_pred_enc)\n",
        "mse_test_enc = mean_squared_error(y_test_enc, y_test_pred_enc)\n",
        "\n",
        "# Print MSE results\n",
        "print(\"Original Data - Train MSE:\", mse_train_orig)\n",
        "print(\"Original Data - Test MSE:\", mse_test_orig)\n",
        "print(\"\\nOne-Hot Encoded Data - Train MSE:\", mse_train_enc)\n",
        "print(\"One-Hot Encoded Data - Test MSE:\", mse_test_enc)\n",
        "\n",
        "# Compare which model performs better on the test data\n",
        "if mse_test_enc < mse_test_orig:\n",
        "    print(\"\\n✅ One-hot encoded model has a smaller test error and generalizes better!\")\n",
        "else:\n",
        "    print(\"\\n✅ Original model has a smaller test error.\")\n"
      ]
    },
    {
      "cell_type": "code",
      "execution_count": null,
      "metadata": {
        "ExecuteTime": {
          "end_time": "2021-09-24T17:11:51.281451Z",
          "start_time": "2021-09-24T17:11:51.266637Z"
        },
        "run_control": {
          "marked": true
        },
        "id": "zVegaCJ1CcEC"
      },
      "outputs": [],
      "source": [
        "from sklearn.linear_model import LinearRegression\n",
        "from sklearn.metrics import mean_squared_error\n",
        "\n",
        "LR = LinearRegression()\n",
        "\n",
        "# Storage for error values\n",
        "\n",
        "\n",
        "# Data that have not been one-hot encoded\n",
        "\n",
        "# Data that have been one-hot encoded\n",
        "\n",
        "# Assemble the results\n"
      ]
    },
    {
      "cell_type": "markdown",
      "metadata": {
        "run_control": {
          "marked": true
        },
        "id": "1OUqtjxrCcEC"
      },
      "source": [
        "Note that the error values on the one-hot encoded data are very different for the train and test data. In particular, the errors on the test data are much higher. Based on the lecture, this is because the one-hot encoded model is overfitting the data. We will learn how to deal with issues like this in the next lesson."
      ]
    },
    {
      "cell_type": "markdown",
      "metadata": {
        "run_control": {
          "marked": true
        },
        "id": "WFYMC20fCcEC"
      },
      "source": [
        "## Question 5\n",
        "\n",
        "For each of the data sets (one-hot encoded and not encoded):\n",
        "\n",
        "* Scale the all the non-hot encoded values using one of the following: `StandardScaler`, `MinMaxScaler`, `MaxAbsScaler`.\n",
        "* Compare the error calculated on the test sets\n",
        "\n",
        "Be sure to calculate the skew (to decide if a transformation should be done) and fit the scaler on *ONLY* the training data, but then apply it to both the train and test data identically."
      ]
    },
    {
      "cell_type": "code",
      "execution_count": null,
      "metadata": {
        "ExecuteTime": {
          "end_time": "2021-09-24T17:11:51.297301Z",
          "start_time": "2021-09-24T17:11:51.282452Z"
        },
        "id": "u-84xRDSCcED",
        "outputId": "f0681312-25c3-4442-db2a-5c5ec2ecff93",
        "colab": {
          "base_uri": "https://localhost:8080/"
        }
      },
      "outputs": [
        {
          "output_type": "stream",
          "name": "stdout",
          "text": [
            "\n",
            "Feature Skewness Before Scaling:\n",
            " Condition1_RRNe        33.211444\n",
            "SaleType_Oth           33.211444\n",
            "Condition2_RRAn        33.211444\n",
            "Exterior1st_ImStucc    33.211444\n",
            "PoolQC_Fa              33.211444\n",
            "                         ...    \n",
            "GarageCond_TA          -4.833738\n",
            "Heating_GasA           -7.645476\n",
            "RoofMatl_CompShg       -8.718098\n",
            "Condition2_Norm        -9.876641\n",
            "Street_Pave           -19.122334\n",
            "Length: 240, dtype: float64\n",
            "\n",
            "Original Data - Test MSE (Scaled): 3375643917.910778\n",
            "One-Hot Encoded Data - Test MSE (Scaled): 3375643917.910778\n",
            "\n",
            "✅ Original scaled model has a smaller test error.\n"
          ]
        },
        {
          "output_type": "stream",
          "name": "stderr",
          "text": [
            "/usr/local/lib/python3.11/dist-packages/sklearn/utils/deprecation.py:151: FutureWarning: 'force_all_finite' was renamed to 'ensure_all_finite' in 1.6 and will be removed in 1.8.\n",
            "  warnings.warn(\n",
            "/usr/local/lib/python3.11/dist-packages/sklearn/utils/deprecation.py:151: FutureWarning: 'force_all_finite' was renamed to 'ensure_all_finite' in 1.6 and will be removed in 1.8.\n",
            "  warnings.warn(\n",
            "/usr/local/lib/python3.11/dist-packages/sklearn/utils/deprecation.py:151: FutureWarning: 'force_all_finite' was renamed to 'ensure_all_finite' in 1.6 and will be removed in 1.8.\n",
            "  warnings.warn(\n",
            "/usr/local/lib/python3.11/dist-packages/sklearn/utils/deprecation.py:151: FutureWarning: 'force_all_finite' was renamed to 'ensure_all_finite' in 1.6 and will be removed in 1.8.\n",
            "  warnings.warn(\n"
          ]
        }
      ],
      "source": [
        "import pandas as pd\n",
        "import numpy as np\n",
        "import seaborn as sns\n",
        "import matplotlib.pyplot as plt\n",
        "from sklearn.model_selection import train_test_split\n",
        "from sklearn.preprocessing import StandardScaler, MinMaxScaler, MaxAbsScaler\n",
        "from sklearn.linear_model import LinearRegression\n",
        "from sklearn.metrics import mean_squared_error\n",
        "\n",
        "# Load datasets\n",
        "df_original = pd.read_csv(\"/content/Ames_Housing_Sales (1).csv\")  # Update with correct path\n",
        "df_encoded = pd.read_csv(\"/content/Ames_Housing_Sales (1).csv\")\n",
        "\n",
        "# Separate features (X) and target variable (y)\n",
        "X_original = df_original.drop(columns=['SalePrice'])\n",
        "y_original = df_original['SalePrice']\n",
        "\n",
        "X_encoded = df_encoded.drop(columns=['SalePrice'])\n",
        "y_encoded = df_encoded['SalePrice']\n",
        "\n",
        "# Split datasets into training and testing (same split for both)\n",
        "X_train_orig, X_test_orig, y_train_orig, y_test_orig = train_test_split(X_original, y_original, test_size=0.2, random_state=42)\n",
        "X_train_enc, X_test_enc, y_train_enc, y_test_enc = train_test_split(X_encoded, y_encoded, test_size=0.2, random_state=42)\n",
        "\n",
        "# Check skewness before scaling\n",
        "skew_values = X_train_orig.skew().sort_values(ascending=False)\n",
        "print(\"\\nFeature Skewness Before Scaling:\\n\", skew_values)\n",
        "\n",
        "# Decide on scaling method (choose one)\n",
        "scaler = StandardScaler()  # Or use MinMaxScaler(), MaxAbsScaler()\n",
        "\n",
        "# Fit scaler only on training data & transform train + test\n",
        "X_train_orig_scaled = scaler.fit_transform(X_train_orig)\n",
        "X_test_orig_scaled = scaler.transform(X_test_orig)\n",
        "\n",
        "X_train_enc_scaled = scaler.fit_transform(X_train_enc)\n",
        "X_test_enc_scaled = scaler.transform(X_test_enc)\n",
        "\n",
        "# Train Linear Regression models\n",
        "model_orig = LinearRegression()\n",
        "model_enc = LinearRegression()\n",
        "\n",
        "model_orig.fit(X_train_orig_scaled, y_train_orig)\n",
        "model_enc.fit(X_train_enc_scaled, y_train_enc)\n",
        "\n",
        "# Predict on test data\n",
        "y_test_pred_orig = model_orig.predict(X_test_orig_scaled)\n",
        "y_test_pred_enc = model_enc.predict(X_test_enc_scaled)\n",
        "\n",
        "# Compute MSE for test data\n",
        "mse_test_orig = mean_squared_error(y_test_orig, y_test_pred_orig)\n",
        "mse_test_enc = mean_squared_error(y_test_enc, y_test_pred_enc)\n",
        "\n",
        "print(\"\\nOriginal Data - Test MSE (Scaled):\", mse_test_orig)\n",
        "print(\"One-Hot Encoded Data - Test MSE (Scaled):\", mse_test_enc)\n",
        "\n",
        "# Compare which model performs better on test data\n",
        "if mse_test_enc < mse_test_orig:\n",
        "    print(\"\\n✅ One-hot encoded & scaled model has a smaller test error!\")\n",
        "else:\n",
        "    print(\"\\n✅ Original scaled model has a smaller test error.\")\n"
      ]
    },
    {
      "cell_type": "code",
      "execution_count": null,
      "metadata": {
        "id": "ZpYwFPyHCcEE"
      },
      "outputs": [],
      "source": []
    },
    {
      "cell_type": "markdown",
      "metadata": {
        "run_control": {
          "marked": true
        },
        "id": "Uf7Y87bcCcEE"
      },
      "source": [
        "## Question 6\n",
        "\n",
        "Plot predictions vs actual for one of the models."
      ]
    },
    {
      "cell_type": "code",
      "execution_count": null,
      "metadata": {
        "ExecuteTime": {
          "end_time": "2021-09-24T17:11:51.312355Z",
          "start_time": "2021-09-24T17:11:51.299241Z"
        },
        "run_control": {
          "marked": true
        },
        "id": "XrjUnliRCcEE",
        "outputId": "8dbeb62c-6931-4edc-d9b1-6ebdac431b0a",
        "colab": {
          "base_uri": "https://localhost:8080/",
          "height": 564
        }
      },
      "outputs": [
        {
          "output_type": "display_data",
          "data": {
            "text/plain": [
              "<Figure size 800x600 with 1 Axes>"
            ],
            "image/png": "[encoded data removed]"
          },
          "metadata": {}
        }
      ],
      "source": [
        "import matplotlib.pyplot as plt\n",
        "import seaborn as sns\n",
        "\n",
        "# Plot Actual vs Predicted for One-Hot Encoded Model\n",
        "plt.figure(figsize=(8,6))\n",
        "sns.scatterplot(x=y_test_enc, y=y_test_pred_enc, alpha=0.6)\n",
        "sns.lineplot(x=y_test_enc, y=y_test_enc, color='red', label='Perfect Prediction')\n",
        "\n",
        "plt.xlabel(\"Actual Sale Price\")\n",
        "plt.ylabel(\"Predicted Sale Price\")\n",
        "plt.title(\"Predicted vs Actual Sale Prices (One-Hot Encoded Model)\")\n",
        "plt.legend()\n",
        "plt.show()\n"
      ]
    },
    {
      "cell_type": "code",
      "execution_count": null,
      "metadata": {
        "id": "VbyP0psTCcEF"
      },
      "outputs": [],
      "source": []
    }
  ],
  "metadata": {
    "anaconda-cloud": {},
    "kernelspec": {
      "display_name": "Python 3 (Intel® oneAPI 2022.3)",
      "language": "python",
      "name": "c009-intel_distribution_of_python_3_oneapi-beta05-python"
    },
    "language_info": {
      "codemirror_mode": {
        "name": "ipython",
        "version": 3
      },
      "file_extension": ".py",
      "mimetype": "text/x-python",
      "name": "python",
      "nbconvert_exporter": "python",
      "pygments_lexer": "ipython3",
      "version": "3.9.12"
    },
    "name": "Train_Test_Splits_Regularization_Exercises-ANSWERS",
    "notebookId": 2125319687183944,
    "colab": {
      "provenance": []
    }
  },
  "nbformat": 4,
  "nbformat_minor": 0
}